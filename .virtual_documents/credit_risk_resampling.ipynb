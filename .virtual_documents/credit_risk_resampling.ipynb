


# Import the modules
import numpy as np
import pandas as pd
from pathlib import Path
from sklearn.metrics import balanced_accuracy_score
from sklearn.metrics import confusion_matrix
from imblearn.metrics import classification_report_imbalanced
from sklearn.metrics import classification_report, accuracy_score
import warnings
warnings.filterwarnings('ignore')











# Read the CSV file from the Resources folder into a Pandas DataFrame
# YOUR CODE HERE!
lending_df = pd.read_csv('lending_data.csv')
# Review the DataFrame
# YOUR CODE HERE!
lending_df





# Separate the data into labels and features

# Separate the y variable, the labels
# YOUR CODE HERE!]
y = lending_df['loan_status']
# Separate the X variable, the features
# YOUR CODE HERE!
X = lending_df.drop(columns=['loan_status'])


# Review the y variable Series
# YOUR CODE HERE!
y.head()


# Review the X variable DataFrame
# YOUR CODE HERE!
X.head()





# Check the balance of our target values
# YOUR CODE HERE!
y.value_counts()





# Import the train_test_learn module
from sklearn.model_selection import train_test_split

# Split the data using train_test_split
# Assign a random_state of 1 to the function
# YOUR CODE HERE!
X_train, X_test, y_train, y_test = train_test_split(X, y, random_state=1)











# Import the LogisticRegression module from SKLearn
from sklearn.linear_model import LogisticRegression

# Instantiate the Logistic Regression model
# Assign a random_state parameter of 1 to the model
# YOUR CODE HERE!
model = LogisticRegression(random_state=1)
# Fit the model using training data
# YOUR CODE HERE!
model.fit(X_train, y_train)





# Make a prediction using the testing data
# YOUR CODE HERE!
y_pred = model.predict(X_test)





# Print the balanced_accuracy score of the model
# YOUR CODE HERE!
original_accuracy = balanced_accuracy_score(y_test, y_pred)
print("Accuracy Score:", original_accuracy)


# Generate a confusion matrix for the model
# YOUR CODE HERE!
original_conf_matrix = confusion_matrix(y_test, y_pred)
print("Confusion Matrix:")
print(original_conf_matrix)



# Print the classification report for the model
# YOUR CODE HERE!
original_class_report = classification_report(y_test, y_pred)
print("Classification Report:")
print(original_class_report)




















# Import the RandomOverSampler module form imbalanced-learn
from imblearn.over_sampling import RandomOverSampler

# Instantiate the random oversampler model
# # Assign a random_state parameter of 1 to the model
# YOUR CODE HERE!
ros = RandomOverSampler(random_state=1)
# Fit the original training data to the random_oversampler model
# YOUR CODE HERE
X_oversampled, y_oversampled = ros.fit_resample(X_train, y_train)


# Count the distinct values of the resampled labels data
# YOUR CODE HERE!
y_oversampled.value_counts()





# Instantiate the Logistic Regression model
# Assign a random_state parameter of 1 to the model
# YOUR CODE HERE!
model2 = LogisticRegression(random_state=1)
# Fit the model using the resampled training data
# YOUR CODE HERE!
model2.fit(X_oversampled, y_oversampled)
# Make a prediction using the testing data
# YOUR CODE HERE!
y_pred_oversampled = model2.predict(X_test)





# Print the balanced_accuracy score of the model 
# YOUR CODE HERE!
original_accuracy = balanced_accuracy_score(y_test, y_pred_oversampled)
print("Accuracy Score:", original_accuracy)


# Generate a confusion matrix for the model
# YOUR CODE HERE!
original_conf_matrix = confusion_matrix(y_test, y_pred_oversampled)
print("Confusion Matrix:")
print(original_conf_matrix)


# Print the classification report for the model
# YOUR CODE HERE!
original_class_report = classification_report(y_test, y_pred_oversampled)
print("Classification Report:")
print(original_class_report)






